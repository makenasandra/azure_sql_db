{
 "cells": [
  {
   "cell_type": "markdown",
   "metadata": {},
   "source": [
    "# Azure SQL Database\n",
    "It is a cloud-based SQL Database that stores structured data.\n",
    "<br/>For more information visit:\n",
    "<br/>https://docs.microsoft.com/en-us/azure/azure-sql/database/sql-database-paas-overview\n",
    "<br/>In this example we will be commiting structed sensor data in a CSV to a SQL database"
   ]
  },
  {
   "cell_type": "markdown",
   "metadata": {},
   "source": [
    "### Installing packages"
   ]
  },
  {
   "cell_type": "code",
   "execution_count": 15,
   "metadata": {},
   "outputs": [],
   "source": [
    "import pyodbc\n",
    "import pandas as pd"
   ]
  },
  {
   "cell_type": "markdown",
   "metadata": {},
   "source": [
    "### Create dataframe object\n",
    "The dataframe will contaoin the data from the CSV file that is to be commited to the sql database"
   ]
  },
  {
   "cell_type": "code",
   "execution_count": 18,
   "metadata": {
    "scrolled": true
   },
   "outputs": [
    {
     "data": {
      "text/html": [
       "<div>\n",
       "<style scoped>\n",
       "    .dataframe tbody tr th:only-of-type {\n",
       "        vertical-align: middle;\n",
       "    }\n",
       "\n",
       "    .dataframe tbody tr th {\n",
       "        vertical-align: top;\n",
       "    }\n",
       "\n",
       "    .dataframe thead th {\n",
       "        text-align: right;\n",
       "    }\n",
       "</style>\n",
       "<table border=\"1\" class=\"dataframe\">\n",
       "  <thead>\n",
       "    <tr style=\"text-align: right;\">\n",
       "      <th></th>\n",
       "      <th>epoch (ms)</th>\n",
       "      <th>time (06:00)</th>\n",
       "      <th>elapsed (s)</th>\n",
       "      <th>x-axis (deg/s)</th>\n",
       "      <th>y-axis (deg/s)</th>\n",
       "      <th>z-axis (deg/s)</th>\n",
       "    </tr>\n",
       "  </thead>\n",
       "  <tbody>\n",
       "    <tr>\n",
       "      <th>0</th>\n",
       "      <td>1600875978480</td>\n",
       "      <td>2020-09-23T18:46:18.480</td>\n",
       "      <td>0.00</td>\n",
       "      <td>-13.476</td>\n",
       "      <td>0.488</td>\n",
       "      <td>0.915</td>\n",
       "    </tr>\n",
       "    <tr>\n",
       "      <th>1</th>\n",
       "      <td>1600875978500</td>\n",
       "      <td>2020-09-23T18:46:18.500</td>\n",
       "      <td>0.02</td>\n",
       "      <td>-14.756</td>\n",
       "      <td>0.427</td>\n",
       "      <td>0.427</td>\n",
       "    </tr>\n",
       "    <tr>\n",
       "      <th>2</th>\n",
       "      <td>1600875978520</td>\n",
       "      <td>2020-09-23T18:46:18.520</td>\n",
       "      <td>0.04</td>\n",
       "      <td>-18.171</td>\n",
       "      <td>2.012</td>\n",
       "      <td>-0.122</td>\n",
       "    </tr>\n",
       "    <tr>\n",
       "      <th>3</th>\n",
       "      <td>1600875978540</td>\n",
       "      <td>2020-09-23T18:46:18.540</td>\n",
       "      <td>0.06</td>\n",
       "      <td>-12.195</td>\n",
       "      <td>1.524</td>\n",
       "      <td>-0.183</td>\n",
       "    </tr>\n",
       "    <tr>\n",
       "      <th>4</th>\n",
       "      <td>1600875978560</td>\n",
       "      <td>2020-09-23T18:46:18.560</td>\n",
       "      <td>0.08</td>\n",
       "      <td>-2.683</td>\n",
       "      <td>-0.610</td>\n",
       "      <td>0.122</td>\n",
       "    </tr>\n",
       "  </tbody>\n",
       "</table>\n",
       "</div>"
      ],
      "text/plain": [
       "      epoch (ms)             time (06:00)  elapsed (s)  x-axis (deg/s)  \\\n",
       "0  1600875978480  2020-09-23T18:46:18.480         0.00         -13.476   \n",
       "1  1600875978500  2020-09-23T18:46:18.500         0.02         -14.756   \n",
       "2  1600875978520  2020-09-23T18:46:18.520         0.04         -18.171   \n",
       "3  1600875978540  2020-09-23T18:46:18.540         0.06         -12.195   \n",
       "4  1600875978560  2020-09-23T18:46:18.560         0.08          -2.683   \n",
       "\n",
       "   y-axis (deg/s)  z-axis (deg/s)  \n",
       "0           0.488           0.915  \n",
       "1           0.427           0.427  \n",
       "2           2.012          -0.122  \n",
       "3           1.524          -0.183  \n",
       "4          -0.610           0.122  "
      ]
     },
     "execution_count": 18,
     "metadata": {},
     "output_type": "execute_result"
    }
   ],
   "source": [
    "#Read CSV file to pandas dataframe\n",
    "df = pd.read_csv(\"sittingone_MetaOn_Gyr.csv\") \n",
    "\n",
    "#Display the top five rows\n",
    "df.head()"
   ]
  },
  {
   "cell_type": "code",
   "execution_count": 19,
   "metadata": {},
   "outputs": [
    {
     "data": {
      "text/html": [
       "<div>\n",
       "<style scoped>\n",
       "    .dataframe tbody tr th:only-of-type {\n",
       "        vertical-align: middle;\n",
       "    }\n",
       "\n",
       "    .dataframe tbody tr th {\n",
       "        vertical-align: top;\n",
       "    }\n",
       "\n",
       "    .dataframe thead th {\n",
       "        text-align: right;\n",
       "    }\n",
       "</style>\n",
       "<table border=\"1\" class=\"dataframe\">\n",
       "  <thead>\n",
       "    <tr style=\"text-align: right;\">\n",
       "      <th></th>\n",
       "      <th>epoch (ms)</th>\n",
       "      <th>time (06:00)</th>\n",
       "      <th>elapsed (s)</th>\n",
       "      <th>x</th>\n",
       "      <th>y</th>\n",
       "      <th>z</th>\n",
       "    </tr>\n",
       "  </thead>\n",
       "  <tbody>\n",
       "    <tr>\n",
       "      <th>0</th>\n",
       "      <td>1600875978480</td>\n",
       "      <td>2020-09-23T18:46:18.480</td>\n",
       "      <td>0.00</td>\n",
       "      <td>-13.476</td>\n",
       "      <td>0.488</td>\n",
       "      <td>0.915</td>\n",
       "    </tr>\n",
       "    <tr>\n",
       "      <th>1</th>\n",
       "      <td>1600875978500</td>\n",
       "      <td>2020-09-23T18:46:18.500</td>\n",
       "      <td>0.02</td>\n",
       "      <td>-14.756</td>\n",
       "      <td>0.427</td>\n",
       "      <td>0.427</td>\n",
       "    </tr>\n",
       "    <tr>\n",
       "      <th>2</th>\n",
       "      <td>1600875978520</td>\n",
       "      <td>2020-09-23T18:46:18.520</td>\n",
       "      <td>0.04</td>\n",
       "      <td>-18.171</td>\n",
       "      <td>2.012</td>\n",
       "      <td>-0.122</td>\n",
       "    </tr>\n",
       "    <tr>\n",
       "      <th>3</th>\n",
       "      <td>1600875978540</td>\n",
       "      <td>2020-09-23T18:46:18.540</td>\n",
       "      <td>0.06</td>\n",
       "      <td>-12.195</td>\n",
       "      <td>1.524</td>\n",
       "      <td>-0.183</td>\n",
       "    </tr>\n",
       "    <tr>\n",
       "      <th>4</th>\n",
       "      <td>1600875978560</td>\n",
       "      <td>2020-09-23T18:46:18.560</td>\n",
       "      <td>0.08</td>\n",
       "      <td>-2.683</td>\n",
       "      <td>-0.610</td>\n",
       "      <td>0.122</td>\n",
       "    </tr>\n",
       "  </tbody>\n",
       "</table>\n",
       "</div>"
      ],
      "text/plain": [
       "      epoch (ms)             time (06:00)  elapsed (s)       x      y      z\n",
       "0  1600875978480  2020-09-23T18:46:18.480         0.00 -13.476  0.488  0.915\n",
       "1  1600875978500  2020-09-23T18:46:18.500         0.02 -14.756  0.427  0.427\n",
       "2  1600875978520  2020-09-23T18:46:18.520         0.04 -18.171  2.012 -0.122\n",
       "3  1600875978540  2020-09-23T18:46:18.540         0.06 -12.195  1.524 -0.183\n",
       "4  1600875978560  2020-09-23T18:46:18.560         0.08  -2.683 -0.610  0.122"
      ]
     },
     "execution_count": 19,
     "metadata": {},
     "output_type": "execute_result"
    }
   ],
   "source": [
    "#Renaming the columns for easier reference(optional)\n",
    "df.rename(columns = {'x-axis (deg/s)': 'x', 'y-axis (deg/s)': 'y', 'z-axis (deg/s)': 'z'}, inplace = True) \n",
    "\n",
    "df.head()"
   ]
  },
  {
   "cell_type": "markdown",
   "metadata": {},
   "source": [
    "### Connect to Database\n",
    "You can obtain the connection details from [Azure Portal](https://docs.microsoft.com/en-us/azure/azure-sql/database/single-database-create-quickstart?tabs=azure-portal), [Azure PowerShell](https://docs.microsoft.com/en-us/azure/azure-sql/database/scripts/create-and-configure-database-powershell) or [Azure CLI](https://docs.microsoft.com/en-us/azure/azure-sql/database/scripts/create-and-configure-database-cli)"
   ]
  },
  {
   "cell_type": "code",
   "execution_count": null,
   "metadata": {},
   "outputs": [],
   "source": [
    "#Create connection string\n",
    "\n",
    "server = 'server-name.database.windows.net'\n",
    "database = 'DBName'\n",
    "username = 'user'\n",
    "password = 'yourpassword'\n",
    "DATABASE_URI = 'DRIVER={SQL Server};SERVER='+server+';DATABASE='+database+';UID='+username+';PWD='+ password"
   ]
  },
  {
   "cell_type": "code",
   "execution_count": null,
   "metadata": {},
   "outputs": [],
   "source": [
    "#Connect to SQL Server\n",
    "conn = pyodbc.connect(DATABASE_URI)\n",
    "cursor = conn.cursor()"
   ]
  },
  {
   "cell_type": "markdown",
   "metadata": {},
   "source": [
    "### Create a table \n",
    "Create a table that will contain the structured data "
   ]
  },
  {
   "cell_type": "code",
   "execution_count": null,
   "metadata": {},
   "outputs": [],
   "source": [
    "# Create a Table if one with same name doesn't already exist\n",
    "cursor.execute('''\n",
    "IF NOT EXISTS (SELECT * FROM INFORMATION_SCHEMA.TABLES\n",
    "           WHERE TABLE_NAME = N'your_table_name')\n",
    "BEGIN\n",
    "     CREATE TABLE your_table_name (Epoch bigint, X_axis float, Y_axis float, Z_axis float)\n",
    "END '''\n",
    ")\n",
    "print('Table successfully created!')"
   ]
  },
  {
   "cell_type": "markdown",
   "metadata": {},
   "source": [
    "###  Commit database\n",
    "The data will be uoloaded to Azure SQL database row by row. This may take a considerable amount of time depending on the number of rows "
   ]
  },
  {
   "cell_type": "code",
   "execution_count": null,
   "metadata": {},
   "outputs": [],
   "source": [
    "# Insert DataFrame to Table\n",
    "for row in acc_df.itertuples():\n",
    "    cursor.execute('''\n",
    "                    INSERT INTO DBName.dbo.body_acc_all (Epoch, X_axis, Y_axis, Z_axis)\n",
    "                    VALUES (?,?,?,?,?)\n",
    "                    ''',\n",
    "                    row.Epoch, \n",
    "                    row.X_axis,\n",
    "                    row.Y_axis,\n",
    "                    row.Z_axis,\n",
    "                    )\n",
    "\n",
    "\n",
    "#Commit Database\n",
    "conn.commit()\n",
    "print(\"Finished!\")\n",
    "\n",
    "#Close connection\n",
    "cursor.close()"
   ]
  }
 ],
 "metadata": {
  "kernelspec": {
   "display_name": "Python 3",
   "language": "python",
   "name": "python3"
  },
  "language_info": {
   "codemirror_mode": {
    "name": "ipython",
    "version": 3
   },
   "file_extension": ".py",
   "mimetype": "text/x-python",
   "name": "python",
   "nbconvert_exporter": "python",
   "pygments_lexer": "ipython3",
   "version": "3.7.1"
  }
 },
 "nbformat": 4,
 "nbformat_minor": 2
}
